{
 "cells": [
  {
   "cell_type": "markdown",
   "metadata": {},
   "source": [
    "## Data Preparation"
   ]
  },
  {
   "cell_type": "code",
   "execution_count": 2,
   "metadata": {},
   "outputs": [],
   "source": [
    "import pandas as pd\n",
    "import re\n",
    "import os\n",
    "import cv2\n",
    "import matplotlib.pyplot as plt"
   ]
  },
  {
   "cell_type": "markdown",
   "metadata": {},
   "source": [
    "### converting the annotation text file to dataframe"
   ]
  },
  {
   "cell_type": "code",
   "execution_count": 3,
   "metadata": {},
   "outputs": [
    {
     "name": "stderr",
     "output_type": "stream",
     "text": [
      "C:\\Users\\harini\\Anaconda3\\lib\\site-packages\\ipykernel_launcher.py:1: FutureWarning: read_table is deprecated, use read_csv instead.\n",
      "  \"\"\"Entry point for launching an IPython kernel.\n"
     ]
    },
    {
     "data": {
      "text/html": [
       "<div>\n",
       "<style scoped>\n",
       "    .dataframe tbody tr th:only-of-type {\n",
       "        vertical-align: middle;\n",
       "    }\n",
       "\n",
       "    .dataframe tbody tr th {\n",
       "        vertical-align: top;\n",
       "    }\n",
       "\n",
       "    .dataframe thead th {\n",
       "        text-align: right;\n",
       "    }\n",
       "</style>\n",
       "<table border=\"1\" class=\"dataframe\">\n",
       "  <thead>\n",
       "    <tr style=\"text-align: right;\">\n",
       "      <th></th>\n",
       "      <th>id</th>\n",
       "      <th>num_prod</th>\n",
       "      <th>coord</th>\n",
       "    </tr>\n",
       "  </thead>\n",
       "  <tbody>\n",
       "    <tr>\n",
       "      <th>0</th>\n",
       "      <td>C1_P01_N1_S2_1.JPG</td>\n",
       "      <td>10</td>\n",
       "      <td>[1008, 1552, 252, 376, 0, 1028, 928, 252, 376,...</td>\n",
       "    </tr>\n",
       "    <tr>\n",
       "      <th>1</th>\n",
       "      <td>C1_P01_N1_S2_2.JPG</td>\n",
       "      <td>10</td>\n",
       "      <td>[1372, 1556, 500, 748, 0, 1392, 256, 500, 748,...</td>\n",
       "    </tr>\n",
       "    <tr>\n",
       "      <th>2</th>\n",
       "      <td>C1_P01_N1_S3_1.JPG</td>\n",
       "      <td>15</td>\n",
       "      <td>[1012, 1808, 276, 448, 0, 1268, 292, 276, 448,...</td>\n",
       "    </tr>\n",
       "    <tr>\n",
       "      <th>3</th>\n",
       "      <td>C1_P01_N1_S3_2.JPG</td>\n",
       "      <td>15</td>\n",
       "      <td>[1236, 812, 268, 404, 0, 1240, 96, 268, 404, 0...</td>\n",
       "    </tr>\n",
       "    <tr>\n",
       "      <th>4</th>\n",
       "      <td>C1_P01_N1_S5_1.JPG</td>\n",
       "      <td>25</td>\n",
       "      <td>[1036, 2096, 220, 312, 0, 1052, 32, 220, 304, ...</td>\n",
       "    </tr>\n",
       "  </tbody>\n",
       "</table>\n",
       "</div>"
      ],
      "text/plain": [
       "                   id num_prod  \\\n",
       "0  C1_P01_N1_S2_1.JPG       10   \n",
       "1  C1_P01_N1_S2_2.JPG       10   \n",
       "2  C1_P01_N1_S3_1.JPG       15   \n",
       "3  C1_P01_N1_S3_2.JPG       15   \n",
       "4  C1_P01_N1_S5_1.JPG       25   \n",
       "\n",
       "                                               coord  \n",
       "0  [1008, 1552, 252, 376, 0, 1028, 928, 252, 376,...  \n",
       "1  [1372, 1556, 500, 748, 0, 1392, 256, 500, 748,...  \n",
       "2  [1012, 1808, 276, 448, 0, 1268, 292, 276, 448,...  \n",
       "3  [1236, 812, 268, 404, 0, 1240, 96, 268, 404, 0...  \n",
       "4  [1036, 2096, 220, 312, 0, 1052, 32, 220, 304, ...  "
      ]
     },
     "execution_count": 3,
     "metadata": {},
     "output_type": "execute_result"
    }
   ],
   "source": [
    "annotation = pd.read_table('annotation.txt',sep='\\n',header=None)\n",
    "ann_df=pd.DataFrame()\n",
    "idd=[]\n",
    "num_prod=[]\n",
    "coord =[]\n",
    "for i in range(len(annotation[0])):\n",
    "    idd.append(annotation[0].str.split(' ')[i][0])\n",
    "    num_prod.append(annotation[0].str.split(' ')[i][1])\n",
    "    coord.append(annotation[0].str.split(' ')[i][2:])\n",
    "ann_df['id']=idd\n",
    "ann_df['num_prod'] = num_prod\n",
    "ann_df['coord']= coord\n",
    "ann_df.head()"
   ]
  },
  {
   "cell_type": "markdown",
   "metadata": {},
   "source": [
    "### Converting the data to csv format as needed by the model"
   ]
  },
  {
   "cell_type": "code",
   "execution_count": 6,
   "metadata": {},
   "outputs": [],
   "source": [
    "# for path in ['ShelfImages/train/','ShelfImages/test/']:\n",
    "def convert_to_csv(data_part):\n",
    "    ids = os.listdir('ShelfImages/'+data_part)\n",
    "    # print(ids)\n",
    "    filename=[]\n",
    "    width=[]\n",
    "    height=[]\n",
    "    label=[]\n",
    "    xmin=[]\n",
    "    ymin=[]\n",
    "    xmax=[]\n",
    "    ymax=[]\n",
    "    for idd in ids:\n",
    "        h,w,c =cv2.imread('ShelfImages/'+data_part+'/'+idd).shape\n",
    "        bbox = ann_df[ann_df['id']==idd]['coord'].values[0]\n",
    "        for j in range(0,len(bbox),5):\n",
    "            xminn =int(bbox[j])\n",
    "            yminn=int(bbox[j+1])\n",
    "            xmaxx=int(bbox[j+2])+xminn\n",
    "            ymaxx=int(bbox[j+3])+yminn\n",
    "\n",
    "            filename.append(idd)\n",
    "            width.append(w)\n",
    "            height.append(h)\n",
    "            label.append('product')\n",
    "            xmin.append(xminn)\n",
    "            ymin.append(yminn)\n",
    "            xmax.append(xmaxx)\n",
    "            ymax.append(ymaxx)\n",
    "    df=pd.DataFrame()\n",
    "    df['filename']= filename\n",
    "    df['width']=width\n",
    "    df['height']=height\n",
    "    df['class'] = label\n",
    "    df['xmin']=xmin\n",
    "    df['ymin']=ymin\n",
    "    df['xmax']=xmax\n",
    "    df['ymax']=ymax\n",
    "    df.to_csv(data_part+'_labels.csv',index=False)"
   ]
  },
  {
   "cell_type": "code",
   "execution_count": 7,
   "metadata": {},
   "outputs": [],
   "source": [
    "convert_to_csv('test')\n",
    "convert_to_csv('train')\n"
   ]
  }
 ],
 "metadata": {
  "kernelspec": {
   "display_name": "Python 3",
   "language": "python",
   "name": "python3"
  },
  "language_info": {
   "codemirror_mode": {
    "name": "ipython",
    "version": 3
   },
   "file_extension": ".py",
   "mimetype": "text/x-python",
   "name": "python",
   "nbconvert_exporter": "python",
   "pygments_lexer": "ipython3",
   "version": "3.7.3"
  }
 },
 "nbformat": 4,
 "nbformat_minor": 2
}
